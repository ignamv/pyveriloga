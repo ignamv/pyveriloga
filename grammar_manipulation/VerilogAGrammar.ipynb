{
 "cells": [
  {
   "cell_type": "code",
   "execution_count": 20,
   "id": "933ddd1e",
   "metadata": {},
   "outputs": [
    {
     "name": "stdout",
     "output_type": "stream",
     "text": [
      "{Identifier(name='decimal_number'): Identifier(name='UNSIGNED_NUMBER')}\n",
      "ENDDISCIPLINE:\n",
      "      'enddiscipline';\n",
      "CONTINUOUS:\n",
      "      'continuous';\n",
      "DDT_NATURE:\n",
      "      'ddt_nature';\n",
      "DISCIPLINE:\n",
      "      'discipline';\n",
      "IDT_NATURE:\n",
      "      'idt_nature';\n",
      "ENDMODULE:\n",
      "      'endmodule';\n",
      "ENDNATURE:\n",
      "      'endnature';\n",
      "PARAMETER:\n",
      "      'parameter';\n",
      "POTENTIAL:\n",
      "      'potential';\n",
      "DISCRETE:\n",
      "      'discrete';\n",
      "EXCLUDE:\n",
      "      'exclude';\n",
      "INTEGER:\n",
      "      'integer';\n",
      "ABSTOL:\n",
      "      'abstol';\n",
      "ACCESS:\n",
      "      'access';\n",
      "ANALOG:\n",
      "      'analog';\n",
      "BRANCH:\n",
      "      'branch';\n",
      "DOMAIN:\n",
      "      'domain';\n",
      "MODULE:\n",
      "      'module';\n",
      "NATURE:\n",
      "      'nature';\n",
      "OUTPUT:\n",
      "      'output';\n",
      "STRING:\n",
      "      'string';\n",
      "BEGIN:\n",
      "      'begin';\n",
      "INOUT:\n",
      "      'inout';\n",
      "INPUT:\n",
      "      'input';\n",
      "UNITS:\n",
      "      'units';\n",
      "ELSE:\n",
      "      'else';\n",
      "FLOW:\n",
      "      'flow';\n",
      "FROM:\n",
      "      'from';\n",
      "REAL:\n",
      "      'real';\n",
      "END:\n",
      "      'end';\n",
      "INF:\n",
      "      'inf';\n",
      "ANALOGCONTRIBUTION:\n",
      "      '<+';\n",
      "EQUALS:\n",
      "      '==';\n",
      "GREATEROREQUAL:\n",
      "      '>=';\n",
      "IF:\n",
      "      'if';\n",
      "LATTR:\n",
      "      '(*';\n",
      "LOGICALAND:\n",
      "      '&&';\n",
      "LOGICALOR:\n",
      "      '||';\n",
      "NOTEQUAL:\n",
      "      '!=';\n",
      "RAISED:\n",
      "      '**';\n",
      "RATTR:\n",
      "      '*)';\n",
      "SMALLEROREQUAL:\n",
      "      '<=';\n",
      "ASSIGN:\n",
      "      '=';\n",
      "COLON:\n",
      "      ':';\n",
      "COMMA:\n",
      "      ',';\n",
      "DIVIDED:\n",
      "      '/';\n",
      "DOUBLEQUOTE:\n",
      "      '\"';\n",
      "GREATER:\n",
      "      '>';\n",
      "LBRACKET:\n",
      "      '[';\n",
      "LOGICALNEGATION:\n",
      "      '!';\n",
      "LPAREN:\n",
      "      '(';\n",
      "MINUS:\n",
      "      '-';\n",
      "MODULUS:\n",
      "      '%';\n",
      "PLUS:\n",
      "      '+';\n",
      "POINT:\n",
      "      '.';\n",
      "RBRACKET:\n",
      "      ']';\n",
      "RPAREN:\n",
      "      ')';\n",
      "SEMICOLON:\n",
      "      ';';\n",
      "SMALLER:\n",
      "      '<';\n",
      "TERNARY:\n",
      "      '?';\n",
      "TIMES:\n",
      "      '*';\n",
      "REAL_NUMBER:\n",
      "      [0-9] [0-9]* POINT [0-9] [0-9]* ([eE] [+-]* [0-9] [0-9]* | [TGMKkmunpfa])?\n",
      "    | [0-9] [0-9]* ([eE] [+-]* [0-9] [0-9]* | [TGMKkmunpfa]);\n",
      "SIMPLE_IDENTIFIER:\n",
      "      [a-zA-Z_\\\\] [a-zA-Z0-9_$]*;\n",
      "STRING_LITERAL:\n",
      "      DOUBLEQUOTE ~[\"]* DOUBLEQUOTE;\n",
      "SYSTEM_IDENTIFIER:\n",
      "      '$' [a-zA-Z0-9_$] [a-zA-Z0-9_$]*;\n",
      "UNSIGNED_NUMBER:\n",
      "      [0-9] [0-9]*;\n",
      "ams_net_identifier:\n",
      "      hierarchical_net_identifier\n",
      "    | net_identifier;\n",
      "analog_block_identifier:\n",
      "      block_identifier;\n",
      "analog_block_item_declaration:\n",
      "      attribute_instance* integer_declaration\n",
      "    | attribute_instance* parameter_declaration SEMICOLON\n",
      "    | attribute_instance* real_declaration;\n",
      "analog_conditional_statement:\n",
      "      IF LPAREN expression RPAREN analog_statement_or_null\n",
      "    | IF LPAREN expression RPAREN analog_statement_or_null ELSE analog_statement_or_null;\n",
      "analog_construct:\n",
      "      ANALOG analog_statement;\n",
      "analog_expression:\n",
      "      expression;\n",
      "analog_procedural_assignment:\n",
      "      analog_variable_assignment SEMICOLON;\n",
      "analog_seq_block:\n",
      "      BEGIN (COLON analog_block_identifier analog_block_item_declaration*)? analog_statement* END;\n",
      "analog_statement:\n",
      "      attribute_instance* analog_conditional_statement\n",
      "    | attribute_instance* analog_procedural_assignment\n",
      "    | attribute_instance* analog_seq_block\n",
      "    | attribute_instance* contribution_statement;\n",
      "analog_statement_or_null:\n",
      "      analog_statement\n",
      "    | attribute_instance* SEMICOLON;\n",
      "analog_variable_assignment:\n",
      "      scalar_analog_variable_assignment;\n",
      "attr_name:\n",
      "      identifier;\n",
      "attr_spec:\n",
      "      attr_name (ASSIGN constant_expression)?;\n",
      "attribute_instance:\n",
      "      LATTR attr_spec (COMMA attr_spec)* RATTR;\n",
      "binary_operator11:\n",
      "      LOGICALAND;\n",
      "binary_operator12:\n",
      "      LOGICALOR;\n",
      "binary_operator2:\n",
      "      RAISED;\n",
      "binary_operator3:\n",
      "      TIMES | DIVIDED\n",
      "    | MODULUS;\n",
      "binary_operator4:\n",
      "      PLUS\n",
      "    | MINUS;\n",
      "binary_operator6:\n",
      "      SMALLER | SMALLEROREQUAL | GREATER\n",
      "    | GREATEROREQUAL;\n",
      "binary_operator7:\n",
      "      EQUALS\n",
      "    | NOTEQUAL;\n",
      "block_identifier:\n",
      "      identifier;\n",
      "branch_declaration:\n",
      "      BRANCH LPAREN branch_terminal (COMMA branch_terminal)? RPAREN list_of_branch_identifiers SEMICOLON;\n",
      "branch_identifier:\n",
      "      identifier;\n",
      "branch_lvalue:\n",
      "      branch_probe_function_call;\n",
      "branch_probe_function_call:\n",
      "      function_call;\n",
      "branch_terminal:\n",
      "      identifier;\n",
      "constant_expression:\n",
      "      expression;\n",
      "constant_mintypmax_expression:\n",
      "      constant_expression;\n",
      "contribution_statement:\n",
      "      branch_lvalue ANALOGCONTRIBUTION analog_expression SEMICOLON;\n",
      "description:\n",
      "      discipline_declaration\n",
      "    | module_declaration\n",
      "    | nature_declaration;\n",
      "discipline_declaration:\n",
      "      DISCIPLINE discipline_identifier SEMICOLON? discipline_item* ENDDISCIPLINE;\n",
      "discipline_domain_binding:\n",
      "      DOMAIN discrete_or_continuous SEMICOLON;\n",
      "discipline_identifier:\n",
      "      identifier;\n",
      "discipline_item:\n",
      "      discipline_domain_binding\n",
      "    | nature_binding;\n",
      "discrete_or_continuous:\n",
      "      CONTINUOUS\n",
      "    | DISCRETE;\n",
      "expr1:\n",
      "      unary_operator expr_primary\n",
      "    | expr_primary;\n",
      "expr11:\n",
      "      expr11 binary_operator11 expr7\n",
      "    | expr7;\n",
      "expr12:\n",
      "      expr12 binary_operator12 expr11\n",
      "    | expr11;\n",
      "expr13:\n",
      "      expr12 TERNARY expr13 COLON expr13\n",
      "    | expr12;\n",
      "expr2:\n",
      "      expr2 binary_operator2 expr1\n",
      "    | expr1;\n",
      "expr3:\n",
      "      expr3 binary_operator3 expr2\n",
      "    | expr2;\n",
      "expr4:\n",
      "      expr4 binary_operator4 expr3\n",
      "    | expr3;\n",
      "expr6:\n",
      "      expr6 binary_operator6 expr4\n",
      "    | expr4;\n",
      "expr7:\n",
      "      expr7 binary_operator7 expr6\n",
      "    | expr6;\n",
      "expr_primary:\n",
      "      number | SIMPLE_IDENTIFIER | SYSTEM_IDENTIFIER | STRING_LITERAL | function_call\n",
      "    | parenthesized_expr;\n",
      "expression:\n",
      "      expr13;\n",
      "function_call:\n",
      "      hierarchical_function_identifier attribute_instance* LPAREN expression (COMMA expression)* RPAREN;\n",
      "hierarchical_function_identifier:\n",
      "      identifier\n",
      "    | SYSTEM_IDENTIFIER;\n",
      "hierarchical_identifier:\n",
      "      identifier;\n",
      "hierarchical_net_identifier:\n",
      "      hierarchical_identifier;\n",
      "identifier:\n",
      "      SIMPLE_IDENTIFIER;\n",
      "inout_declaration:\n",
      "      INOUT discipline_identifier? list_of_port_identifiers;\n",
      "input_declaration:\n",
      "      INPUT discipline_identifier? list_of_port_identifiers;\n",
      "integer_declaration:\n",
      "      INTEGER list_of_variable_identifiers SEMICOLON;\n",
      "list_of_branch_identifiers:\n",
      "      branch_identifier (COMMA branch_identifier)*;\n",
      "list_of_net_identifiers:\n",
      "      ams_net_identifier (COMMA ams_net_identifier)*;\n",
      "list_of_param_assignments:\n",
      "      param_assignment (COMMA param_assignment)*;\n",
      "list_of_port_declarations:\n",
      "      LPAREN RPAREN\n",
      "    | LPAREN port_declaration (COMMA port_declaration)* RPAREN;\n",
      "list_of_port_identifiers:\n",
      "      port_identifier (COMMA port_identifier)*;\n",
      "list_of_ports:\n",
      "      LPAREN port (COMMA port)* RPAREN;\n",
      "list_of_real_identifiers:\n",
      "      real_type (COMMA real_type)*;\n",
      "list_of_variable_identifiers:\n",
      "      variable_type (COMMA variable_type)*;\n",
      "list_of_variable_port_identifiers:\n",
      "      port_identifier (ASSIGN constant_expression)? (COMMA port_identifier (ASSIGN constant_expression)?)*;\n",
      "module_declaration:\n",
      "      attribute_instance* module_keyword module_identifier list_of_ports SEMICOLON module_item* ENDMODULE\n",
      "    | attribute_instance* module_keyword module_identifier list_of_port_declarations? SEMICOLON non_port_module_item* ENDMODULE;\n",
      "module_identifier:\n",
      "      identifier;\n",
      "module_item:\n",
      "      non_port_module_item\n",
      "    | port_declaration SEMICOLON;\n",
      "module_keyword:\n",
      "      MODULE;\n",
      "module_or_generate_item:\n",
      "      attribute_instance* analog_construct\n",
      "    | attribute_instance* module_or_generate_item_declaration;\n",
      "module_or_generate_item_declaration:\n",
      "      branch_declaration\n",
      "    | integer_declaration\n",
      "    | net_declaration\n",
      "    | real_declaration;\n",
      "nature_attribute:\n",
      "      nature_attribute_identifier ASSIGN nature_attribute_expression SEMICOLON;\n",
      "nature_attribute_expression:\n",
      "      REAL_NUMBER | UNSIGNED_NUMBER | STRING_LITERAL\n",
      "    | identifier;\n",
      "nature_attribute_identifier:\n",
      "      ABSTOL\n",
      "    | ACCESS\n",
      "    | DDT_NATURE\n",
      "    | IDT_NATURE\n",
      "    | UNITS\n",
      "    | identifier;\n",
      "nature_binding:\n",
      "      potential_or_flow nature_identifier SEMICOLON;\n",
      "nature_declaration:\n",
      "      NATURE nature_identifier SEMICOLON? nature_item* ENDNATURE;\n",
      "nature_identifier:\n",
      "      identifier;\n",
      "nature_item:\n",
      "      nature_attribute;\n",
      "net_declaration:\n",
      "      discipline_identifier list_of_net_identifiers SEMICOLON;\n",
      "net_identifier:\n",
      "      identifier;\n",
      "non_port_module_item:\n",
      "      module_or_generate_item\n",
      "    | attribute_instance* parameter_declaration SEMICOLON;\n",
      "number:\n",
      "      UNSIGNED_NUMBER\n",
      "    | REAL_NUMBER;\n",
      "output_declaration:\n",
      "      OUTPUT output_variable_type list_of_variable_port_identifiers\n",
      "    | OUTPUT discipline_identifier? list_of_port_identifiers;\n",
      "output_variable_type:\n",
      "      INTEGER;\n",
      "param_assignment:\n",
      "      parameter_identifier ASSIGN constant_mintypmax_expression value_range*;\n",
      "parameter_declaration:\n",
      "      PARAMETER list_of_param_assignments\n",
      "    | PARAMETER parameter_type list_of_param_assignments;\n",
      "parameter_identifier:\n",
      "      identifier;\n",
      "parameter_type:\n",
      "      INTEGER\n",
      "    | REAL\n",
      "    | STRING;\n",
      "parenthesized_expr:\n",
      "      LPAREN expression RPAREN;\n",
      "port:\n",
      "      port_reference;\n",
      "port_declaration:\n",
      "      attribute_instance* inout_declaration\n",
      "    | attribute_instance* input_declaration\n",
      "    | attribute_instance* output_declaration;\n",
      "port_identifier:\n",
      "      identifier;\n",
      "port_reference:\n",
      "      identifier;\n",
      "potential_or_flow:\n",
      "      FLOW\n",
      "    | POTENTIAL;\n",
      "real_declaration:\n",
      "      REAL list_of_real_identifiers SEMICOLON;\n",
      "real_identifier:\n",
      "      identifier;\n",
      "real_type:\n",
      "      real_identifier\n",
      "    | real_identifier ASSIGN constant_expression;\n",
      "scalar_analog_variable_assignment:\n",
      "      scalar_analog_variable_lvalue ASSIGN analog_expression;\n",
      "scalar_analog_variable_lvalue:\n",
      "      SIMPLE_IDENTIFIER;\n",
      "source_text:\n",
      "      description*;\n",
      "start:\n",
      "      start_nature | start_expression | start_discipline | start_module | start_source_text\n",
      "    | start_statement;\n",
      "start_discipline:\n",
      "      discipline_declaration EOF;\n",
      "start_expression:\n",
      "      expression EOF;\n",
      "start_module:\n",
      "      module_declaration EOF;\n",
      "start_nature:\n",
      "      nature_declaration EOF;\n",
      "start_source_text:\n",
      "      source_text EOF;\n",
      "start_statement:\n",
      "      analog_statement EOF;\n",
      "unary_operator:\n",
      "      PLUS | MINUS\n",
      "    | LOGICALNEGATION;\n",
      "value_range:\n",
      "      EXCLUDE constant_expression\n",
      "    | value_range_type LPAREN value_range_expression COLON value_range_expression RPAREN\n",
      "    | value_range_type LPAREN value_range_expression COLON value_range_expression RBRACKET\n",
      "    | value_range_type LBRACKET value_range_expression COLON value_range_expression RPAREN\n",
      "    | value_range_type LBRACKET value_range_expression COLON value_range_expression RBRACKET;\n",
      "value_range_expression:\n",
      "      INF\n",
      "    | constant_expression\n",
      "    | MINUS INF;\n",
      "value_range_type:\n",
      "      EXCLUDE\n",
      "    | FROM;\n",
      "variable_identifier:\n",
      "      identifier;\n",
      "variable_type:\n",
      "      variable_identifier\n",
      "    | variable_identifier ASSIGN constant_expression;\n",
      "{('expr1', 'unary_operator expr_primary'): 'Expr1_withoperator', ('expr1', 'expr_primary'): 'Expr1_withoutoperator', ('expr13', 'expr12 TERNARY expr13 COLON expr13'): 'Expr13_withoperator', ('expr13', 'expr12'): 'Expr13_withoutoperator', ('analog_conditional_statement', 'IF LPAREN expression RPAREN analog_statement_or_null'): 'Analog_conditional_statement_noelse', ('analog_conditional_statement', 'IF LPAREN expression RPAREN analog_statement_or_null ELSE analog_statement_or_null'): 'Analog_conditional_statement_else', ('analog_statement_or_null', 'attribute_instance* SEMICOLON'): 'Analog_statement_or_null_semicolon', ('analog_statement_or_null', 'analog_statement'): 'Analog_statement_or_null_statement', ('parameter_declaration', 'PARAMETER parameter_type list_of_param_assignments'): 'Parameter_declaration_withtype', ('parameter_declaration', 'PARAMETER list_of_param_assignments'): 'Parameter_declaration_withouttype'}\n"
     ]
    }
   ],
   "source": [
    "\n",
    "#exec(open('stuff.py').read(), {'__file__': 'stuff.py'})\n",
    "from stuff import Grammar, Literal, Identifier, Definition, CharacterClass, Concatenation, Alternatives, ZeroOrMore\n",
    "import re\n",
    "\n",
    "\n",
    "with open(\"reserved\") as fd:\n",
    "    reserved = set(map(str.strip, fd))\n",
    "with open(\"operators\") as fd:\n",
    "    operator_to_name = dict(line.strip().split(\"\\t\") for line in fd)\n",
    "name_to_operator = {v:k for k,v in operator_to_name.items()}\n",
    "start_rule = \"start\"\n",
    "\n",
    "grammar = Grammar.from_bnf(filename=\"bnf2.txt\")\n",
    "syscalls = set()\n",
    "replacements = {\n",
    "    Literal('-inf'): Definition.from_bnf(\"'-' 'inf'\"),\n",
    "    Literal('( )'): Definition.from_bnf(\"'(' ')'\"),\n",
    "    Literal('if ('): Definition.from_bnf(\"'if' '('\"),\n",
    "    Literal('else if ('): Definition.from_bnf(\"'else' 'if' '('\"),\n",
    "    Literal('branch ('): Definition.from_bnf(\"'branch' '('\"),\n",
    "}\n",
    "for lit in grammar.literals:\n",
    "    match = re.match(\"\\$(\\w+)\\s*\\(\", lit)\n",
    "    if not match:\n",
    "        continue\n",
    "    name = \"$\" + match.group(1)\n",
    "    syscalls.add(name)\n",
    "    replacements[Literal(lit)] = Concatenation((Literal(name), Literal(\"(\")))\n",
    "grammar.substitute(replacements)\n",
    "bad_literals = '''\n",
    "@ connectrules wait reg primitive paramset defparam connectmodule macromodule design wreal vectored trireg\n",
    "scalared signed ground realtime time\n",
    "=== !== ~ & | ^ ^~  << >> <<< >>>  ~^ ~& ~|\n",
    "'''.split() + ['# (', \"analog initial\"]\n",
    "bad_rules = '''\n",
    "module_instantiation\n",
    "analog_case_statement\n",
    "system_function_call\n",
    "conditional_statement \n",
    "function_declaration\n",
    "\n",
    "aliasparam_declaration generate_region specify_block specparam_declaration always_construct \n",
    "conditional_generate_construct continuous_assign gate_instantiation initial_construct \n",
    "local_parameter_declaration loop_generate_construct  reg_declaration task_declaration \n",
    "time_declaration\n",
    "event_declaration genvar_declaration realtime_declaration \n",
    "zi_filter_name\n",
    "analog_filter_function_call\n",
    "range_expression\n",
    "wait_statement task_enable system_task_enable procedural_timing_control_statement procedural_continuous_assignments\n",
    "nonblocking_assignment event_trigger disable_statement\n",
    "udp_instantiation\n",
    "delay_or_event_control\n",
    "analog_event_control_statement\n",
    "analog_system_task_enable indirect_contribution_statement\n",
    "analog_concatenation\n",
    "concatenation\n",
    "constant_concatenation\n",
    "array_analog_variable_assignment\n",
    "port_probe_function_call\n",
    "nature_attribute_reference\n",
    "nature_attribute_override\n",
    "parent_nature\n",
    "drive_strength\n",
    "delay3\n",
    "constant_range_expression\n",
    "escaped_identifier\n",
    "net_type\n",
    "par_block\n",
    "analog_loop_generate_statement\n",
    "analog_function_case_statement\n",
    "analog_function_conditional_statement\n",
    "analog_function_loop_statement\n",
    "\n",
    "analog_conditional_expression\n",
    "if_else_if_statement\n",
    "analog_loop_statement\n",
    "constant_arrayinit\n",
    "case_statement\n",
    "\n",
    "analysis_function_call\n",
    "\n",
    "string\n",
    "analog_function_declaration\n",
    "analog_small_signal_function_call\n",
    "analog_range_expression\n",
    "range\n",
    "dimension\n",
    "loop_statement\n",
    "analog_built_in_function_call\n",
    "constant_analog_built_in_function_call\n",
    "\n",
    "binary_number decimal_base hex_number octal_number\n",
    "\n",
    "function_call\n",
    "port_branch_declaration\n",
    "list_of_net_decl_assignments\n",
    "'''.split()\n",
    "for literal in bad_literals:\n",
    "    grammar.remove(Literal(literal))\n",
    "for rule in bad_rules:\n",
    "    grammar.remove(Identifier(rule))\n",
    "for k in grammar.missing_rules:\n",
    "    #print(f'{k}: {grammar.rule_users[k]}')\n",
    "    grammar[k] = Literal(\"MISSING\")\n",
    "grammar.update(Grammar.from_bnf(bnf='''\n",
    "analog_conditional_statement ::= 'if' LPAREN expression RPAREN analog_statement_or_null | 'if' LPAREN expression RPAREN analog_statement_or_null 'else' analog_statement_or_null\n",
    "analog_event_functions ::= function_call\n",
    "analog_filter_function_call ::= function_call\n",
    "analog_function_call ::= function_call\n",
    "constant_analog_function_call ::= constant_function_call\n",
    "branch_probe_function_call ::= function_call\n",
    "indirect_expression ::= function_call\n",
    "real_number ::= [0-9] { [0-9] } '.' [0-9] { [0-9] } [ [eE] { [+-] } [0-9] { [0-9] } | [TGMKkmunpfa] ]\n",
    "    | [0-9] { [0-9] } ( [eE] { [+-] } [0-9] { [0-9] } | [TGMKkmunpfa] )\n",
    "STRING_LITERAL ::= '\"' { [^\"] } '\"'\n",
    "unsigned_number ::= [0-9] { [0-9] }\n",
    "nature_attribute_expression ::= real_number | unsigned_number | STRING_LITERAL | identifier\n",
    "variable_reference ::= identifier\n",
    "hierarchical_identifier ::= identifier\n",
    "port_reference ::= identifier\n",
    "port ::= port_reference\n",
    "branch_terminal ::= identifier\n",
    "hierarchical_function_identifier ::= identifier | SYSTEM_IDENTIFIER\n",
    "system_function_identifier  ::= SYSTEM_IDENTIFIER\n",
    "system_parameter_identifier  ::= SYSTEM_IDENTIFIER\n",
    "binary_operator2 ::= RAISED\n",
    "binary_operator3 ::= TIMES | DIVIDED | MODULUS\n",
    "binary_operator4 ::= PLUS | MINUS\n",
    "binary_operator6 ::= SMALLER | SMALLEROREQUAL | GREATER | GREATEROREQUAL\n",
    "binary_operator7 ::= EQUALS | NOTEQUAL\n",
    "binary_operator11 ::= LOGICALAND\n",
    "binary_operator12 ::= LOGICALOR\n",
    "unary_operator ::= PLUS | MINUS | LOGICALNEGATION\n",
    "expression ::= expr13\n",
    "expr13 ::= expr12 '?' expr13 ':' expr13 | expr12\n",
    "expr12 ::= expr12 binary_operator12 expr11 | expr11\n",
    "expr11 ::= expr11 binary_operator11 expr7 | expr7\n",
    "expr7 ::= expr7 binary_operator7 expr6 | expr6\n",
    "expr6 ::= expr6 binary_operator6 expr4 | expr4\n",
    "expr4 ::= expr4 binary_operator4 expr3 | expr3\n",
    "expr3 ::= expr3 binary_operator3 expr2 | expr2\n",
    "expr2 ::= expr2 binary_operator2 expr1 | expr1\n",
    "expr1 ::= unary_operator expr_primary | expr_primary\n",
    "expr_primary ::= number | SIMPLE_IDENTIFIER | SYSTEM_IDENTIFIER | STRING_LITERAL | function_call | parenthesized_expr\n",
    "parenthesized_expr ::= LPAREN expression RPAREN\n",
    "constant_expression ::= expression\n",
    "analog_expression ::= expression\n",
    "constant_mintypmax_expression ::= constant_expression\n",
    "scalar_analog_variable_lvalue ::= SIMPLE_IDENTIFIER\n",
    "start ::= start_nature | start_expression | start_discipline | start_module | start_source_text | start_statement\n",
    "start_nature ::= nature_declaration EOF\n",
    "start_expression ::= expression EOF\n",
    "start_discipline ::= discipline_declaration EOF\n",
    "start_statement ::= analog_statement EOF\n",
    "start_module ::= module_declaration EOF\n",
    "start_source_text ::= source_text EOF\n",
    "'''))\n",
    "grammar['simple_identifier'] = Concatenation(children=(CharacterClass(pattern='a-zA-Z_\\\\'), ZeroOrMore(children=(CharacterClass(pattern='a-zA-Z0-9_$'),))))\n",
    "grammar['SYSTEM_IDENTIFIER'] = Concatenation(children=(Literal('$'), CharacterClass(pattern='a-zA-Z0-9_$'), ZeroOrMore(children=(CharacterClass(pattern='a-zA-Z0-9_$'),))))\n",
    "tokenize = '''\n",
    "unsigned_number\n",
    "real_number\n",
    "simple_identifier\n",
    "'''.split()\n",
    "for k in tokenize:\n",
    "    grammar[k.upper()] = grammar[k]\n",
    "grammar.substitute({Identifier(k): Identifier(k.upper()) for k in tokenize})\n",
    "expand = '''\n",
    "decimal_number\n",
    "'''.split() + [k for k,v in grammar.rules.items() if v == Identifier('simple_identifier')]\n",
    "print({Identifier(k): grammar[k] for k in expand})\n",
    "grammar.substitute({Identifier(k): grammar[k] for k in expand})\n",
    "grammar.removeOrphans(start_rule)\n",
    "# Literals used outside a lexer rule\n",
    "bare_literals = {k for k, v in grammar.literal_users.items()} #if not all(v_==v_.upper() for v_ in v)} #- reserved - set(operator_to_name)\n",
    "name_literals = {}\n",
    "for literal in bare_literals & reserved:\n",
    "    name_literals[literal] = literal.upper()\n",
    "used_operators = {name_to_operator[name] for name in grammar.rule_users if name in name_to_operator}\n",
    "for literal in (bare_literals | used_operators) & set(operator_to_name):\n",
    "    name_literals[literal] = operator_to_name[literal]\n",
    "grammar.substitute({Literal(literal): Identifier(name) for literal, name in name_literals.items()})\n",
    "for literal, name in name_literals.items():\n",
    "    grammar[name] = Literal(literal)\n",
    "grammar.removeOrphans(start_rule) \n",
    "print(grammar.to_antlr())\n",
    "import ast\n",
    "with open('../antlr/parser.py') as fd:\n",
    "    visitorfile = ast.parse(fd.read())\n",
    "\n",
    "visitorclass = next(iter(x for x in visitorfile.body if isinstance(x, ast.ClassDef) and x.name == 'MyVisitor'))\n",
    "\n",
    "def get_tag_names(visitorclass):\n",
    "    ret = {}\n",
    "    prefix = 'visit'\n",
    "    methods = [x for x in visitorclass.body if isinstance(x, ast.FunctionDef) and x.name.startswith(prefix)]\n",
    "    for method in methods:\n",
    "        if not isinstance(method.body[0], ast.Expr) or not isinstance(method.body[0].value, ast.Constant):\n",
    "            continue\n",
    "        docstring = method.body[0].value.value\n",
    "        if not isinstance(docstring, str):\n",
    "            continue\n",
    "        rule, _, definition = docstring.partition(':')\n",
    "        ret[rule.strip(), definition.strip()] = method.name[len(prefix):]\n",
    "    return ret\n",
    "\n",
    "tags = get_tag_names(visitorclass)\n",
    "print(tags)\n",
    "\n",
    "#print(grammar.to_antlr())\n",
    "with open('/home/ignacio/programacion/veriloga/antlr/VerilogALexer.g4', 'w') as fd:\n",
    "    fd.write('lexer grammar VerilogALexer;\\n\\nimport VerilogAPreprocessor;\\n\\n')\n",
    "    fd.write('WHITESPACE: [\\\\t ]+ -> skip;\\n')\n",
    "    fd.write(\"COMMENT: '//' ~[\\\\n]+ -> skip;\\n\")\n",
    "    lexerrules = Grammar({k: v for k,v in grammar.rules.items() if k.isupper()})\n",
    "    fd.write(lexerrules.canonicalize().to_antlr())\n",
    "with open('/home/ignacio/programacion/veriloga/antlr/VerilogAParser.g4', 'w') as fd:\n",
    "    fd.write('''\\\n",
    "parser grammar VerilogAParser;\n",
    "options {\n",
    "    tokenVocab = VerilogALexer;\n",
    "}\n",
    "\n",
    "''')\n",
    "    parserrules = Grammar({k: v for k,v in grammar.rules.items() if k.islower()})\n",
    "    fd.write(parserrules.canonicalize().to_antlr(tags))\n",
    "    \n",
    "with open('/home/ignacio/programacion/veriloga/antlr/single_identifier_rules.txt', 'w') as fd:\n",
    "    fd.write('\\n'.join(k \n",
    "                       for k,v in parserrules.rules.items() \n",
    "                       if isinstance(v, Identifier)\n",
    "                       or k.startswith('start_')\n",
    "                      or isinstance(v, Alternatives) and all(isinstance(alt, Identifier)\n",
    "                                                            for alt in v.children)))\n"
   ]
  },
  {
   "cell_type": "code",
   "execution_count": 5,
   "id": "cf04b0c9",
   "metadata": {},
   "outputs": [
    {
     "name": "stdout",
     "output_type": "stream",
     "text": [
      "attribute_instance* parameter_declaration ';' | attribute_instance* integer_declaration | attribute_instance* real_declaration\n"
     ]
    }
   ],
   "source": []
  },
  {
   "cell_type": "code",
   "execution_count": 9,
   "id": "3a23ad31",
   "metadata": {},
   "outputs": [
    {
     "name": "stdout",
     "output_type": "stream",
     "text": [
      "simple_identifier ::= [a-zA-Z_\\\\] { [a-zA-Z0-9_$] }\n",
      "simple_identifier:\n",
      "      [a-zA-Z_\\] { [a-zA-Z0-9_$];\n"
     ]
    }
   ],
   "source": [
    "print('simple_identifier ::= [a-zA-Z_\\\\\\\\] { [a-zA-Z0-9_$] }')\n",
    "print(Grammar.from_bnf(bnf='simple_identifier ::= [a-zA-Z_\\\\\\\\] { [a-zA-Z0-9_$] }').to_antlr())"
   ]
  },
  {
   "cell_type": "code",
   "execution_count": 10,
   "id": "3cd7186e",
   "metadata": {},
   "outputs": [
    {
     "data": {
      "text/plain": [
       "CharacterClass(pattern='a-zA-Z_] { [a-zA-Z0-9_$')"
      ]
     },
     "execution_count": 10,
     "metadata": {},
     "output_type": "execute_result"
    }
   ],
   "source": [
    "Grammar.from_bnf(bnf='simple_identifier ::= [a-zA-Z_\\\\\\\\] { [a-zA-Z0-9_$] }')['simple_identifier']"
   ]
  },
  {
   "cell_type": "code",
   "execution_count": 7,
   "id": "ae11f5c1",
   "metadata": {
    "scrolled": true
   },
   "outputs": [
    {
     "ename": "KeyError",
     "evalue": "'SIMPLE_IDENTIFIER'",
     "output_type": "error",
     "traceback": [
      "\u001b[0;31m---------------------------------------------------------------------------\u001b[0m",
      "\u001b[0;31mKeyError\u001b[0m                                  Traceback (most recent call last)",
      "\u001b[0;32m<ipython-input-7-64c9cf64d40b>\u001b[0m in \u001b[0;36m<module>\u001b[0;34m\u001b[0m\n\u001b[0;32m----> 1\u001b[0;31m \u001b[0mprint\u001b[0m\u001b[0;34m(\u001b[0m\u001b[0mgrammar\u001b[0m\u001b[0;34m[\u001b[0m\u001b[0;34m'SIMPLE_IDENTIFIER'\u001b[0m\u001b[0;34m]\u001b[0m\u001b[0;34m.\u001b[0m\u001b[0mto_antlr\u001b[0m\u001b[0;34m(\u001b[0m\u001b[0;34m)\u001b[0m\u001b[0;34m)\u001b[0m\u001b[0;34m\u001b[0m\u001b[0;34m\u001b[0m\u001b[0m\n\u001b[0m",
      "\u001b[0;32m~/programacion/veriloga/from_html/stuff.py\u001b[0m in \u001b[0;36m__getitem__\u001b[0;34m(self, name)\u001b[0m\n\u001b[1;32m    513\u001b[0m \u001b[0;34m\u001b[0m\u001b[0m\n\u001b[1;32m    514\u001b[0m     \u001b[0;32mdef\u001b[0m \u001b[0m__getitem__\u001b[0m\u001b[0;34m(\u001b[0m\u001b[0mself\u001b[0m\u001b[0;34m,\u001b[0m \u001b[0mname\u001b[0m\u001b[0;34m)\u001b[0m\u001b[0;34m:\u001b[0m\u001b[0;34m\u001b[0m\u001b[0;34m\u001b[0m\u001b[0m\n\u001b[0;32m--> 515\u001b[0;31m         \u001b[0;32mreturn\u001b[0m \u001b[0mself\u001b[0m\u001b[0;34m.\u001b[0m\u001b[0mrules\u001b[0m\u001b[0;34m[\u001b[0m\u001b[0mname\u001b[0m\u001b[0;34m]\u001b[0m\u001b[0;34m\u001b[0m\u001b[0;34m\u001b[0m\u001b[0m\n\u001b[0m\u001b[1;32m    516\u001b[0m \u001b[0;34m\u001b[0m\u001b[0m\n\u001b[1;32m    517\u001b[0m     \u001b[0;32mdef\u001b[0m \u001b[0m__setitem__\u001b[0m\u001b[0;34m(\u001b[0m\u001b[0mself\u001b[0m\u001b[0;34m,\u001b[0m \u001b[0mname\u001b[0m\u001b[0;34m,\u001b[0m \u001b[0mvalue\u001b[0m\u001b[0;34m)\u001b[0m\u001b[0;34m:\u001b[0m\u001b[0;34m\u001b[0m\u001b[0;34m\u001b[0m\u001b[0m\n",
      "\u001b[0;31mKeyError\u001b[0m: 'SIMPLE_IDENTIFIER'"
     ]
    }
   ],
   "source": [
    "print(grammar['SIMPLE_IDENTIFIER'].to_antlr())"
   ]
  },
  {
   "cell_type": "code",
   "execution_count": 4,
   "id": "7e66d74e",
   "metadata": {},
   "outputs": [
    {
     "name": "stdout",
     "output_type": "stream",
     "text": [
      "[abc\\\\]\n"
     ]
    }
   ],
   "source": [
    "print(CharacterClass('abc\\\\').to_antlr())"
   ]
  },
  {
   "cell_type": "code",
   "execution_count": 14,
   "id": "fa3e3792",
   "metadata": {},
   "outputs": [
    {
     "name": "stdout",
     "output_type": "stream",
     "text": [
      "\n"
     ]
    }
   ],
   "source": [
    "print(parserrules.canonicalize().to_antlr())"
   ]
  },
  {
   "cell_type": "code",
   "execution_count": 34,
   "id": "49c67bd7",
   "metadata": {},
   "outputs": [
    {
     "data": {
      "text/plain": [
       "{'constant_primary', 'number'}"
      ]
     },
     "execution_count": 34,
     "metadata": {},
     "output_type": "execute_result"
    }
   ],
   "source": [
    "def is_alternation_of_identifiers(definition):\n",
    "    definition = definition.simplify()\n",
    "    if isinstance(definition, Identifier):\n",
    "        return True\n",
    "    if not isinstance(definition, Alternatives):\n",
    "        return False\n",
    "    return all(isinstance(child, Identifier) for child in definition.children)\n",
    "        \n",
    "{k for k,definition in parserrules.rules.items() if is_alternation_of_identifiers(definition)}"
   ]
  },
  {
   "cell_type": "code",
   "execution_count": 29,
   "id": "ce2b65a4",
   "metadata": {},
   "outputs": [
    {
     "data": {
      "text/plain": [
       "['__class__',\n",
       " '__delattr__',\n",
       " '__dict__',\n",
       " '__dir__',\n",
       " '__doc__',\n",
       " '__eq__',\n",
       " '__format__',\n",
       " '__ge__',\n",
       " '__getattribute__',\n",
       " '__gt__',\n",
       " '__hash__',\n",
       " '__init__',\n",
       " '__init_subclass__',\n",
       " '__le__',\n",
       " '__lt__',\n",
       " '__module__',\n",
       " '__ne__',\n",
       " '__new__',\n",
       " '__reduce__',\n",
       " '__reduce_ex__',\n",
       " '__repr__',\n",
       " '__setattr__',\n",
       " '__sizeof__',\n",
       " '__str__',\n",
       " '__subclasshook__',\n",
       " '__weakref__',\n",
       " '_attributes',\n",
       " '_fields',\n",
       " 'bases',\n",
       " 'body',\n",
       " 'col_offset',\n",
       " 'decorator_list',\n",
       " 'end_col_offset',\n",
       " 'end_lineno',\n",
       " 'keywords',\n",
       " 'lineno',\n",
       " 'name']"
      ]
     },
     "execution_count": 29,
     "metadata": {},
     "output_type": "execute_result"
    }
   ],
   "source": [
    "from copy import copy\n",
    "method_pattern = ast.parse('''\n",
    "class DefaultVisitor:\n",
    "    def visitNumber(self, ctx):\n",
    "        return self.visit(ctx.getChild(0))\n",
    "''').body[0]\n",
    "copy(method)\n",
    "myclass = ast.parse('''\n",
    "class DefaultVisitor:\n",
    "    def visitNumber(self, ctx):\n",
    "        return self.visit(ctx.getChild(0))\n",
    "''').body[0]\n",
    "dir(myclass)"
   ]
  },
  {
   "cell_type": "code",
   "execution_count": 19,
   "id": "dc216a7f",
   "metadata": {},
   "outputs": [
    {
     "ename": "NameError",
     "evalue": "name 'copy' is not defined",
     "output_type": "error",
     "traceback": [
      "\u001b[0;31m---------------------------------------------------------------------------\u001b[0m",
      "\u001b[0;31mNameError\u001b[0m                                 Traceback (most recent call last)",
      "\u001b[0;32m<ipython-input-19-0f00b731fbb1>\u001b[0m in \u001b[0;36m<module>\u001b[0;34m\u001b[0m\n\u001b[0;32m----> 1\u001b[0;31m \u001b[0mcopy\u001b[0m\u001b[0;34m\u001b[0m\u001b[0;34m\u001b[0m\u001b[0m\n\u001b[0m",
      "\u001b[0;31mNameError\u001b[0m: name 'copy' is not defined"
     ]
    }
   ],
   "source": [
    "copy"
   ]
  },
  {
   "cell_type": "code",
   "execution_count": 4,
   "id": "0f8ee7e2",
   "metadata": {
    "scrolled": true
   },
   "outputs": [
    {
     "data": {
      "text/plain": [
       "92"
      ]
     },
     "execution_count": 4,
     "metadata": {},
     "output_type": "execute_result"
    }
   ],
   "source": [
    "len(sgrammar).split('\\n'))"
   ]
  },
  {
   "cell_type": "code",
   "execution_count": 5,
   "id": "1e85fa52",
   "metadata": {},
   "outputs": [
    {
     "data": {
      "text/plain": [
       "['COMMA']"
      ]
     },
     "execution_count": 5,
     "metadata": {},
     "output_type": "execute_result"
    }
   ],
   "source": [
    "grammar.literal_users[',']"
   ]
  },
  {
   "cell_type": "code",
   "execution_count": 6,
   "id": "96e6f4b6",
   "metadata": {},
   "outputs": [
    {
     "name": "stdout",
     "output_type": "stream",
     "text": [
      "ABSTOL ::= 'abstol'\n",
      "ACCESS ::= 'access'\n",
      "ASSIGN ::= '='\n",
      "BINARY_OPERATOR ::= '!='\n",
      "    | '!=='\n",
      "    | '%'\n",
      "    | '&'\n",
      "    | '&&'\n",
      "    | '*'\n",
      "    | '**'\n",
      "    | '+'\n",
      "    | '-'\n",
      "    | '/'\n",
      "    | '<'\n",
      "    | '<<'\n",
      "    | '<<<'\n",
      "    | '<='\n",
      "    | '=='\n",
      "    | '==='\n",
      "    | '>'\n",
      "    | '>='\n",
      "    | '>>'\n",
      "    | '>>>'\n",
      "    | '^'\n",
      "    | '^~'\n",
      "    | '|'\n",
      "    | '||'\n",
      "    | '~^'\n",
      "COLON ::= ':'\n",
      "COMMA ::= ','\n",
      "CONTINUOUS ::= 'continuous'\n",
      "DDT_NATURE ::= 'ddt_nature'\n",
      "DISCIPLINE ::= 'discipline'\n",
      "DISCRETE ::= 'discrete'\n",
      "DOMAIN ::= 'domain'\n",
      "ENDDISCIPLINE ::= 'enddiscipline'\n",
      "ENDNATURE ::= 'endnature'\n",
      "IDT_NATURE ::= 'idt_nature'\n",
      "LPAREN ::= '('\n",
      "NATURE ::= 'nature'\n",
      "POTENTIAL_OR_FLOW ::= 'flow'\n",
      "    | 'potential'\n",
      "RPAREN ::= ')'\n",
      "SEMICOLON ::= ';'\n",
      "SIMPLE_IDENTIFIER ::= [a-zA-Z_] { [a-zA-Z0-9_$] }\n",
      "TERNARY ::= '?'\n",
      "UNARY_OPERATOR ::= '!'\n",
      "    | '&'\n",
      "    | '+'\n",
      "    | '-'\n",
      "    | '^'\n",
      "    | '^~'\n",
      "    | '|'\n",
      "    | '~'\n",
      "    | '~&'\n",
      "    | '~^'\n",
      "    | '~|'\n",
      "UNITS ::= 'units'\n",
      "UNSIGNED_NUMBER ::= [0-9] { [0-9] }\n",
      "constant_analog_function_call ::= SIMPLE_IDENTIFIER LPAREN constant_expression { COMMA constant_expression } RPAREN\n",
      "constant_expression ::= constant_primary\n",
      "    | UNARY_OPERATOR constant_primary\n",
      "    | constant_expression TERNARY constant_expression COLON constant_expression\n",
      "    | constant_expression BINARY_OPERATOR constant_expression\n",
      "constant_function_call ::= SIMPLE_IDENTIFIER LPAREN constant_expression { COMMA constant_expression } RPAREN\n",
      "constant_mintypmax_expression ::= constant_expression\n",
      "    | constant_expression COLON constant_expression COLON constant_expression\n",
      "constant_primary ::= SIMPLE_IDENTIFIER\n",
      "    | UNSIGNED_NUMBER\n",
      "    | constant_analog_function_call\n",
      "    | constant_function_call\n",
      "    | LPAREN constant_mintypmax_expression RPAREN\n",
      "description ::= discipline_declaration\n",
      "    | nature_declaration\n",
      "discipline_declaration ::= DISCIPLINE SIMPLE_IDENTIFIER [ SEMICOLON ] { discipline_item } ENDDISCIPLINE\n",
      "discipline_domain_binding ::= DOMAIN discrete_or_continuous SEMICOLON\n",
      "discipline_item ::= discipline_domain_binding\n",
      "    | nature_binding\n",
      "discrete_or_continuous ::= CONTINUOUS\n",
      "    | DISCRETE\n",
      "nature_attribute ::= nature_attribute_identifier ASSIGN nature_attribute_expression SEMICOLON\n",
      "nature_attribute_expression ::= SIMPLE_IDENTIFIER\n",
      "    | constant_expression\n",
      "nature_attribute_identifier ::= ABSTOL\n",
      "    | ACCESS\n",
      "    | DDT_NATURE\n",
      "    | IDT_NATURE\n",
      "    | UNITS\n",
      "    | SIMPLE_IDENTIFIER\n",
      "nature_binding ::= POTENTIAL_OR_FLOW SIMPLE_IDENTIFIER SEMICOLON\n",
      "nature_declaration ::= NATURE SIMPLE_IDENTIFIER [ SEMICOLON ] { nature_attribute } ENDNATURE\n",
      "source_text ::= { description }\n"
     ]
    }
   ],
   "source": [
    "#grammar.removeOrphans('expression')\n",
    "print(grammar)"
   ]
  },
  {
   "cell_type": "code",
   "execution_count": 339,
   "id": "0817ea3b",
   "metadata": {},
   "outputs": [
    {
     "name": "stdout",
     "output_type": "stream",
     "text": [
      "simple_identifier\n",
      "\n",
      "['analog_primary']\n"
     ]
    }
   ],
   "source": [
    "rule = 'net_reference'\n",
    "print(grammar[rule])\n",
    "print('')\n",
    "print(grammar.rule_users[rule])"
   ]
  },
  {
   "cell_type": "code",
   "execution_count": 294,
   "id": "bfb09c4d",
   "metadata": {},
   "outputs": [
    {
     "name": "stdout",
     "output_type": "stream",
     "text": [
      "analog_built_in_function_call\n",
      "    | analog_system_function_call\n",
      "    | function_call\n",
      "    | net_reference\n",
      "    | number\n",
      "    | parameter_reference\n",
      "    | simple_identifier\n",
      "    | '(' analog_expression ')'\n",
      "\n",
      "['analog_expression', 'analog_expression']\n"
     ]
    }
   ],
   "source": [
    "rule = 'analog_primary'\n",
    "print(grammar[rule])\n",
    "print('')\n",
    "print(grammar.rule_users[rule])"
   ]
  },
  {
   "cell_type": "code",
   "execution_count": 161,
   "id": "32f3e6d4",
   "metadata": {},
   "outputs": [
    {
     "name": "stdout",
     "output_type": "stream",
     "text": [
      "simple_identifier '=' constant_expression\n",
      "    | simple_identifier { dimension } [ '=' constant_arrayinit ]\n",
      "\n",
      "['list_of_real_identifiers', 'list_of_real_identifiers']\n"
     ]
    }
   ],
   "source": [
    "rule = 'real_type'\n",
    "print(grammar[rule])\n",
    "print('')\n",
    "print(grammar.rule_users[rule])"
   ]
  },
  {
   "cell_type": "code",
   "execution_count": 165,
   "id": "8e32c960",
   "metadata": {},
   "outputs": [
    {
     "name": "stdout",
     "output_type": "stream",
     "text": [
      "'MISSING'\n",
      "\n",
      "['real_type', 'variable_type', 'param_assignment', 'noise_table_input_arg']\n"
     ]
    }
   ],
   "source": [
    "rule = 'constant_arrayinit'\n",
    "print(grammar[rule])\n",
    "print('')\n",
    "print(grammar.rule_users[rule])"
   ]
  },
  {
   "cell_type": "code",
   "execution_count": null,
   "id": "f6983a31",
   "metadata": {},
   "outputs": [],
   "source": []
  },
  {
   "cell_type": "code",
   "execution_count": 37,
   "id": "77a34214",
   "metadata": {},
   "outputs": [],
   "source": []
  },
  {
   "cell_type": "code",
   "execution_count": 38,
   "id": "6b76a182",
   "metadata": {},
   "outputs": [
    {
     "data": {
      "text/plain": [
       "{'#', '# (', 'MISSING'}"
      ]
     },
     "execution_count": 38,
     "metadata": {},
     "output_type": "execute_result"
    }
   ],
   "source": [
    "remaining = grammar.literals - set(operator_to_name) - reserved - syscalls\n",
    "replacements = {}\n",
    "for lit in remaining:\n",
    "    parts = set(lit.split())\n",
    "    if parts.issubset(set(operator_to_name) | reserved | syscalls):\n",
    "        replacements[Literal(lit)] = Concatenation(tuple(Literal(part) for part in lit.split()))\n",
    "grammar.substitute(replacements)\n",
    "\n",
    "grammar.literals - set(operator_to_name) - reserved - syscalls"
   ]
  },
  {
   "cell_type": "code",
   "execution_count": 218,
   "id": "569d1dbc",
   "metadata": {
    "scrolled": true
   },
   "outputs": [
    {
     "name": "stdout",
     "output_type": "stream",
     "text": [
      "['module_declaration', 'module_declaration']\n"
     ]
    }
   ],
   "source": [
    "print(grammar.rule_users['module_parameter_port_list'])"
   ]
  },
  {
   "cell_type": "code",
   "execution_count": 175,
   "id": "1a9512c9",
   "metadata": {
    "scrolled": true
   },
   "outputs": [
    {
     "name": "stdout",
     "output_type": "stream",
     "text": [
      "['statement']\n"
     ]
    }
   ],
   "source": [
    "print(grammar.rule_users['procedural_timing_control_statement'])"
   ]
  },
  {
   "cell_type": "code",
   "execution_count": 227,
   "id": "d584dc33",
   "metadata": {},
   "outputs": [
    {
     "name": "stdout",
     "output_type": "stream",
     "text": [
      "['hierarchical_identifier']\n"
     ]
    }
   ],
   "source": [
    "print(grammar.literal_users[\n",
    "'$root .'\n",
    "])"
   ]
  },
  {
   "cell_type": "code",
   "execution_count": 51,
   "id": "b013942d",
   "metadata": {},
   "outputs": [
    {
     "data": {
      "text/plain": [
       "2"
      ]
     },
     "execution_count": 51,
     "metadata": {},
     "output_type": "execute_result"
    }
   ],
   "source": [
    "grammar['local_parameter_declaration'].precedence"
   ]
  },
  {
   "cell_type": "code",
   "execution_count": 228,
   "id": "47e22f66",
   "metadata": {},
   "outputs": [
    {
     "name": "stdout",
     "output_type": "stream",
     "text": [
      "\n",
      "    hierarchical_identifier=Definition.from_bnf(\"\"\"[ '$root .' ] { identifier [ '[' constant_expression ']' ] '.' } identifier\"\"\"),\n",
      "\n"
     ]
    }
   ],
   "source": [
    "k = \"\"\"\n",
    "hierarchical_identifier\n",
    "\"\"\".strip()\n",
    "print(f'''\n",
    "    {k}=Definition.from_bnf(\"\"\"{grammar[k]}\"\"\"),\n",
    "''')"
   ]
  },
  {
   "cell_type": "code",
   "execution_count": 183,
   "id": "63d2376e",
   "metadata": {},
   "outputs": [
    {
     "name": "stdout",
     "output_type": "stream",
     "text": [
      "\n",
      "    seq_block=Definition.from_bnf(\"\"\"'begin' [ ':' block_identifier { block_item_declaration } ] { statement } 'end'\"\"\"),\n",
      "\n"
     ]
    }
   ],
   "source": [
    "k = \"\"\"\n",
    "seq_block\n",
    "\"\"\".strip()\n",
    "print(f'''\n",
    "    {k}=Definition.from_bnf(\"\"\"{grammar[k]}\"\"\"),\n",
    "''')"
   ]
  },
  {
   "cell_type": "code",
   "execution_count": 102,
   "id": "5c77a9c5",
   "metadata": {},
   "outputs": [
    {
     "data": {
      "text/plain": [
       "['z_digit']"
      ]
     },
     "execution_count": 102,
     "metadata": {},
     "output_type": "execute_result"
    }
   ],
   "source": [
    "grammar.literal_users['z']"
   ]
  },
  {
   "cell_type": "code",
   "execution_count": null,
   "id": "a83fb19c",
   "metadata": {},
   "outputs": [],
   "source": [
    "replacements = {lit: Concatenation([Identifier('system_function_identifier'), Literal('(')])\n",
    "    for lit in literals if lit.strip()[0] == '$' and lit[-1] == '('}\n",
    "\n",
    "literals = {node.value for rule in rules.values() for node in rule.descendants(Literal)}\n",
    "identifiers = {node.name for rule in rules.values() for node in rule.descendants(Identifier)}\n",
    "weird = literals - reserved - set(operator_to_name)\n",
    "replacements = {}\n",
    "for l in weird:\n",
    "    if re.match(r'\\$(\\w+)\\s*\\(', l):\n",
    "        replacements[l] = "
   ]
  }
 ],
 "metadata": {
  "kernelspec": {
   "display_name": "veriloga",
   "language": "python",
   "name": "veriloga"
  },
  "language_info": {
   "codemirror_mode": {
    "name": "ipython",
    "version": 3
   },
   "file_extension": ".py",
   "mimetype": "text/x-python",
   "name": "python",
   "nbconvert_exporter": "python",
   "pygments_lexer": "ipython3",
   "version": "3.10.4"
  }
 },
 "nbformat": 4,
 "nbformat_minor": 5
}
